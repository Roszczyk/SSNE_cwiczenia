{
 "cells": [
  {
   "cell_type": "code",
   "execution_count": 8,
   "metadata": {},
   "outputs": [
    {
     "name": "stdout",
     "output_type": "stream",
     "text": [
      "Requirement already satisfied: transformers in c:\\users\\mikol\\onedrive\\pulpit\\repos\\madan\\madan_env\\lib\\site-packages (4.41.2)\n",
      "Requirement already satisfied: datasets in c:\\users\\mikol\\onedrive\\pulpit\\repos\\madan\\madan_env\\lib\\site-packages (2.19.2)\n",
      "Collecting evaluate\n",
      "  Downloading evaluate-0.4.2-py3-none-any.whl (84 kB)\n",
      "     ---------------------------------------- 84.1/84.1 kB 1.6 MB/s eta 0:00:00\n",
      "Requirement already satisfied: filelock in c:\\users\\mikol\\onedrive\\pulpit\\repos\\madan\\madan_env\\lib\\site-packages (from transformers) (3.14.0)\n",
      "Requirement already satisfied: huggingface-hub<1.0,>=0.23.0 in c:\\users\\mikol\\onedrive\\pulpit\\repos\\madan\\madan_env\\lib\\site-packages (from transformers) (0.23.3)\n",
      "Requirement already satisfied: numpy>=1.17 in c:\\users\\mikol\\onedrive\\pulpit\\repos\\madan\\madan_env\\lib\\site-packages (from transformers) (1.26.4)\n",
      "Requirement already satisfied: packaging>=20.0 in c:\\users\\mikol\\onedrive\\pulpit\\repos\\madan\\madan_env\\lib\\site-packages (from transformers) (24.0)\n",
      "Requirement already satisfied: pyyaml>=5.1 in c:\\users\\mikol\\onedrive\\pulpit\\repos\\madan\\madan_env\\lib\\site-packages (from transformers) (6.0.1)\n",
      "Requirement already satisfied: regex!=2019.12.17 in c:\\users\\mikol\\onedrive\\pulpit\\repos\\madan\\madan_env\\lib\\site-packages (from transformers) (2024.5.15)\n",
      "Requirement already satisfied: requests in c:\\users\\mikol\\onedrive\\pulpit\\repos\\madan\\madan_env\\lib\\site-packages (from transformers) (2.32.2)\n",
      "Requirement already satisfied: tokenizers<0.20,>=0.19 in c:\\users\\mikol\\onedrive\\pulpit\\repos\\madan\\madan_env\\lib\\site-packages (from transformers) (0.19.1)\n",
      "Requirement already satisfied: safetensors>=0.4.1 in c:\\users\\mikol\\onedrive\\pulpit\\repos\\madan\\madan_env\\lib\\site-packages (from transformers) (0.4.3)\n",
      "Requirement already satisfied: tqdm>=4.27 in c:\\users\\mikol\\onedrive\\pulpit\\repos\\madan\\madan_env\\lib\\site-packages (from transformers) (4.66.4)\n",
      "Requirement already satisfied: pyarrow>=12.0.0 in c:\\users\\mikol\\onedrive\\pulpit\\repos\\madan\\madan_env\\lib\\site-packages (from datasets) (16.1.0)\n",
      "Requirement already satisfied: pyarrow-hotfix in c:\\users\\mikol\\onedrive\\pulpit\\repos\\madan\\madan_env\\lib\\site-packages (from datasets) (0.6)\n",
      "Requirement already satisfied: dill<0.3.9,>=0.3.0 in c:\\users\\mikol\\onedrive\\pulpit\\repos\\madan\\madan_env\\lib\\site-packages (from datasets) (0.3.8)\n",
      "Requirement already satisfied: pandas in c:\\users\\mikol\\onedrive\\pulpit\\repos\\madan\\madan_env\\lib\\site-packages (from datasets) (2.2.2)\n",
      "Requirement already satisfied: xxhash in c:\\users\\mikol\\onedrive\\pulpit\\repos\\madan\\madan_env\\lib\\site-packages (from datasets) (3.4.1)\n",
      "Requirement already satisfied: multiprocess in c:\\users\\mikol\\onedrive\\pulpit\\repos\\madan\\madan_env\\lib\\site-packages (from datasets) (0.70.16)\n",
      "Requirement already satisfied: fsspec[http]<=2024.3.1,>=2023.1.0 in c:\\users\\mikol\\onedrive\\pulpit\\repos\\madan\\madan_env\\lib\\site-packages (from datasets) (2024.3.1)\n",
      "Requirement already satisfied: aiohttp in c:\\users\\mikol\\onedrive\\pulpit\\repos\\madan\\madan_env\\lib\\site-packages (from datasets) (3.9.5)\n",
      "Requirement already satisfied: aiosignal>=1.1.2 in c:\\users\\mikol\\onedrive\\pulpit\\repos\\madan\\madan_env\\lib\\site-packages (from aiohttp->datasets) (1.3.1)\n",
      "Requirement already satisfied: attrs>=17.3.0 in c:\\users\\mikol\\onedrive\\pulpit\\repos\\madan\\madan_env\\lib\\site-packages (from aiohttp->datasets) (23.2.0)\n",
      "Requirement already satisfied: frozenlist>=1.1.1 in c:\\users\\mikol\\onedrive\\pulpit\\repos\\madan\\madan_env\\lib\\site-packages (from aiohttp->datasets) (1.4.1)\n",
      "Requirement already satisfied: multidict<7.0,>=4.5 in c:\\users\\mikol\\onedrive\\pulpit\\repos\\madan\\madan_env\\lib\\site-packages (from aiohttp->datasets) (6.0.5)\n",
      "Requirement already satisfied: yarl<2.0,>=1.0 in c:\\users\\mikol\\onedrive\\pulpit\\repos\\madan\\madan_env\\lib\\site-packages (from aiohttp->datasets) (1.9.4)\n",
      "Requirement already satisfied: typing-extensions>=3.7.4.3 in c:\\users\\mikol\\onedrive\\pulpit\\repos\\madan\\madan_env\\lib\\site-packages (from huggingface-hub<1.0,>=0.23.0->transformers) (4.11.0)\n",
      "Requirement already satisfied: charset-normalizer<4,>=2 in c:\\users\\mikol\\onedrive\\pulpit\\repos\\madan\\madan_env\\lib\\site-packages (from requests->transformers) (3.3.2)\n",
      "Requirement already satisfied: idna<4,>=2.5 in c:\\users\\mikol\\onedrive\\pulpit\\repos\\madan\\madan_env\\lib\\site-packages (from requests->transformers) (3.7)\n",
      "Requirement already satisfied: urllib3<3,>=1.21.1 in c:\\users\\mikol\\onedrive\\pulpit\\repos\\madan\\madan_env\\lib\\site-packages (from requests->transformers) (2.2.1)\n",
      "Requirement already satisfied: certifi>=2017.4.17 in c:\\users\\mikol\\onedrive\\pulpit\\repos\\madan\\madan_env\\lib\\site-packages (from requests->transformers) (2024.2.2)\n",
      "Requirement already satisfied: colorama in c:\\users\\mikol\\onedrive\\pulpit\\repos\\madan\\madan_env\\lib\\site-packages (from tqdm>=4.27->transformers) (0.4.6)\n",
      "Requirement already satisfied: python-dateutil>=2.8.2 in c:\\users\\mikol\\onedrive\\pulpit\\repos\\madan\\madan_env\\lib\\site-packages (from pandas->datasets) (2.9.0.post0)\n",
      "Requirement already satisfied: pytz>=2020.1 in c:\\users\\mikol\\onedrive\\pulpit\\repos\\madan\\madan_env\\lib\\site-packages (from pandas->datasets) (2024.1)\n",
      "Requirement already satisfied: tzdata>=2022.7 in c:\\users\\mikol\\onedrive\\pulpit\\repos\\madan\\madan_env\\lib\\site-packages (from pandas->datasets) (2024.1)\n",
      "Requirement already satisfied: six>=1.5 in c:\\users\\mikol\\onedrive\\pulpit\\repos\\madan\\madan_env\\lib\\site-packages (from python-dateutil>=2.8.2->pandas->datasets) (1.16.0)\n",
      "Installing collected packages: evaluate\n",
      "Successfully installed evaluate-0.4.2\n"
     ]
    },
    {
     "name": "stderr",
     "output_type": "stream",
     "text": [
      "\n",
      "[notice] A new release of pip available: 22.3.1 -> 24.0\n",
      "[notice] To update, run: python.exe -m pip install --upgrade pip\n"
     ]
    }
   ],
   "source": [
    "! pip install transformers datasets evaluate"
   ]
  },
  {
   "cell_type": "code",
   "execution_count": 10,
   "metadata": {},
   "outputs": [],
   "source": [
    "import torch\n",
    "from torch import nn\n",
    "import numpy as nn"
   ]
  },
  {
   "cell_type": "code",
   "execution_count": 11,
   "metadata": {},
   "outputs": [
    {
     "name": "stdout",
     "output_type": "stream",
     "text": [
      "Device: cpu\n"
     ]
    }
   ],
   "source": [
    "device = torch.device(\"cuda:0\") if torch.cuda.is_available() else torch.device(\"cpu\")\n",
    "print(\"Device:\", device)"
   ]
  },
  {
   "cell_type": "code",
   "execution_count": 12,
   "metadata": {},
   "outputs": [],
   "source": [
    "import transformers\n",
    "from datasets import load_dataset\n",
    "import evaluate\n",
    "from tqdm import tqdm\n",
    "import pandas as pd"
   ]
  },
  {
   "cell_type": "code",
   "execution_count": 13,
   "metadata": {},
   "outputs": [],
   "source": [
    "model_name = 'distilbert-base-uncased'\n",
    "tokenizer = transformers.AutoTokenizer.from_pretrained(model_name)\n",
    "model = transformers.AutoModel.from_pretrained(model_name)"
   ]
  },
  {
   "cell_type": "code",
   "execution_count": 2,
   "metadata": {},
   "outputs": [],
   "source": [
    "df = pd.read_csv(\"train_data.csv\")"
   ]
  },
  {
   "cell_type": "code",
   "execution_count": 8,
   "metadata": {},
   "outputs": [
    {
     "name": "stdout",
     "output_type": "stream",
     "text": [
      "location not palace excellent hotel booke dthe hotel nh hotel site attractive rate, room spacious quiet, clean, hotel bit unpersonal big, breakfast tremendous, teh breakfast room art nouveau.. real experience, location ok altough busy neighbourhood night, rooms sound proof, stayed hotels amsterdam, favorite,  \n",
      "4\n"
     ]
    }
   ],
   "source": [
    "print(df[\"review\"][0])\n",
    "print(df[\"rating\"][0])"
   ]
  },
  {
   "cell_type": "code",
   "execution_count": 16,
   "metadata": {},
   "outputs": [
    {
     "name": "stdout",
     "output_type": "stream",
     "text": [
      "[{'input_ids': [101, 2282, 1013, 9270, 2025, 2074, 19613, 2460, 4440, 1018, 6385, 1019, 2420, 9478, 2015, 3565, 20464, 12083, 3309, 9270, 27377, 2064, 2050, 13114, 1012, 1023, 1011, 2410, 3369, 3178, 4536, 3199, 7458, 1017, 1011, 1018, 9275, 2126, 4530, 10885, 2545, 4638, 1011, 1999, 2253, 15299, 1010, 16755, 2893, 10095, 4983, 15210, 3825, 5083, 1010, 4770, 18783, 2312, 12788, 9880, 1011, 2039, 3347, 7167, 11549, 8397, 4060, 5440, 10223, 22373, 2181, 1010, 2833, 2800, 15933, 3446, 2779, 1010, 2699, 2887, 1010, 2282, 9557, 2442, 2100, 2763, 29324, 5723, 4012, 5302, 3207, 7752, 6457, 1013, 14366, 1010, 2988, 29324, 3230, 1010, 3944, 2359, 2224, 2606, 4318, 2121, 2354, 2183, 2147, 2025, 1010, 2106, 4604, 12087, 4954, 2606, 4596, 1010, 19976, 3482, 2813, 25141, 3436, 2393, 2025, 1010, 3376, 3193, 4770, 4153, 1010, 2293, 18503, 27300, 2800, 9364, 9478, 9270, 1010, 2209, 20996, 9307, 4674, 6714, 3678, 1013, 11033, 3435, 1050, 1005, 1056, 11772, 2431, 2051, 1010, 1016, 20996, 9307, 4674, 7251, 2788, 4082, 1016, 2304, 2990, 7251, 2025, 19832, 4060, 1010, 2228, 12385, 12322, 4783, 2319, 16054, 2795, 1010, 2074, 2025, 5697, 3095, 2106, 1050, 1005, 1056, 5379, 16222, 19506, 16616, 1010, 5791, 16755, 27377, 2064, 2050, 3376, 3509, 4153, 3046, 10947, 9275, 2051, 1010, 102], 'attention_mask': [1, 1, 1, 1, 1, 1, 1, 1, 1, 1, 1, 1, 1, 1, 1, 1, 1, 1, 1, 1, 1, 1, 1, 1, 1, 1, 1, 1, 1, 1, 1, 1, 1, 1, 1, 1, 1, 1, 1, 1, 1, 1, 1, 1, 1, 1, 1, 1, 1, 1, 1, 1, 1, 1, 1, 1, 1, 1, 1, 1, 1, 1, 1, 1, 1, 1, 1, 1, 1, 1, 1, 1, 1, 1, 1, 1, 1, 1, 1, 1, 1, 1, 1, 1, 1, 1, 1, 1, 1, 1, 1, 1, 1, 1, 1, 1, 1, 1, 1, 1, 1, 1, 1, 1, 1, 1, 1, 1, 1, 1, 1, 1, 1, 1, 1, 1, 1, 1, 1, 1, 1, 1, 1, 1, 1, 1, 1, 1, 1, 1, 1, 1, 1, 1, 1, 1, 1, 1, 1, 1, 1, 1, 1, 1, 1, 1, 1, 1, 1, 1, 1, 1, 1, 1, 1, 1, 1, 1, 1, 1, 1, 1, 1, 1, 1, 1, 1, 1, 1, 1, 1, 1, 1, 1, 1, 1, 1, 1, 1, 1, 1, 1, 1, 1, 1, 1, 1, 1, 1, 1, 1, 1, 1, 1, 1, 1, 1, 1, 1, 1, 1, 1, 1, 1, 1]}, 2]\n",
      "[{'input_ids': [101, 2307, 3601, 4370, 1016, 6385, 1010, 7199, 2047, 3309, 1010, 3295, 2307, 2157, 2379, 13051, 2270, 5193, 1016, 5991, 2148, 2276, 1010, 3309, 2307, 3095, 4128, 19870, 1010, 3835, 2210, 12403, 2181, 4770, 27090, 4128, 1010, 2282, 2307, 19957, 19851, 5224, 27662, 2898, 18182, 2694, 6625, 2793, 4550, 4251, 1010, 3095, 6727, 5379, 1010, 3976, 9608, 2181, 1010, 3452, 3643, 2173, 2431, 6474, 3182, 4370, 3731, 2086, 1010, 102], 'attention_mask': [1, 1, 1, 1, 1, 1, 1, 1, 1, 1, 1, 1, 1, 1, 1, 1, 1, 1, 1, 1, 1, 1, 1, 1, 1, 1, 1, 1, 1, 1, 1, 1, 1, 1, 1, 1, 1, 1, 1, 1, 1, 1, 1, 1, 1, 1, 1, 1, 1, 1, 1, 1, 1, 1, 1, 1, 1, 1, 1, 1, 1, 1, 1, 1, 1, 1, 1, 1, 1, 1]}, 4]\n",
      "[{'input_ids': [101, 2307, 4370, 1015, 2305, 3188, 2975, 2660, 1010, 3130, 3994, 1015, 2733, 4370, 2103, 2803, 1010, 7857, 2239, 5186, 2204, 3066, 2926, 2445, 2686, 4550, 20942, 19870, 1010, 2428, 4545, 2025, 3309, 2282, 3929, 1011, 11018, 3064, 3829, 3584, 14533, 2282, 28283, 11461, 2443, 1010, 6581, 2146, 1011, 2744, 12237, 2307, 2460, 2994, 2066, 1010, 2428, 3835, 5025, 6411, 4133, 3422, 2694, 1010, 15106, 3573, 1018, 1011, 1019, 5636, 7884, 3518, 10733, 2690, 2789, 3420, 10392, 4966, 12635, 3573, 4545, 4966, 2447, 1010, 4545, 3492, 14057, 15483, 2380, 26318, 2181, 1010, 2521, 3328, 2103, 2803, 2292, 6496, 3309, 2103, 2803, 3039, 3328, 9548, 6496, 8206, 21048, 1050, 1005, 1056, 5458, 1010, 2092, 1011, 10959, 3408, 9298, 17883, 3227, 2184, 2752, 2103, 13258, 3199, 2322, 2106, 1050, 1005, 1056, 5382, 2165, 3345, 3199, 9298, 22831, 2382, 1010, 4624, 2111, 2457, 14769, 14044, 1010, 3811, 6749, 1010, 102], 'attention_mask': [1, 1, 1, 1, 1, 1, 1, 1, 1, 1, 1, 1, 1, 1, 1, 1, 1, 1, 1, 1, 1, 1, 1, 1, 1, 1, 1, 1, 1, 1, 1, 1, 1, 1, 1, 1, 1, 1, 1, 1, 1, 1, 1, 1, 1, 1, 1, 1, 1, 1, 1, 1, 1, 1, 1, 1, 1, 1, 1, 1, 1, 1, 1, 1, 1, 1, 1, 1, 1, 1, 1, 1, 1, 1, 1, 1, 1, 1, 1, 1, 1, 1, 1, 1, 1, 1, 1, 1, 1, 1, 1, 1, 1, 1, 1, 1, 1, 1, 1, 1, 1, 1, 1, 1, 1, 1, 1, 1, 1, 1, 1, 1, 1, 1, 1, 1, 1, 1, 1, 1, 1, 1, 1, 1, 1, 1, 1, 1, 1, 1, 1, 1, 1, 1, 1, 1, 1, 1, 1, 1, 1, 1, 1, 1, 1, 1, 1]}, 4]\n",
      "[{'input_ids': [101, 2310, 19755, 8012, 4370, 22337, 4217, 2814, 5030, 1010, 4370, 2403, 6385, 1010, 4041, 5030, 16755, 22337, 2106, 21688, 3105, 1010, 2074, 5204, 15811, 8385, 2154, 18678, 6209, 3492, 2469, 2190, 3309, 10104, 3072, 1010, 8074, 1019, 2732, 4781, 2228, 2153, 1012, 1996, 3309, 2047, 3115, 3926, 21794, 1010, 6054, 3309, 3504, 14726, 2328, 26822, 14141, 6588, 3232, 2086, 4983, 5247, 2843, 6032, 2272, 11937, 15353, 1010, 2146, 11202, 7001, 3328, 1050, 1005, 1056, 3243, 2736, 2311, 2147, 18526, 17538, 1050, 1005, 1056, 3718, 5957, 2094, 1010, 3182, 3816, 5509, 16985, 22911, 8871, 2317, 13864, 1010, 3309, 5509, 19467, 2015, 4911, 8796, 4770, 2752, 1050, 1005, 1056, 4147, 6007, 1010, 10425, 12679, 2752, 3835, 8702, 1999, 24393, 14219, 6576, 5509, 2094, 5357, 2428, 27594, 2015, 3311, 1012, 1999, 18390, 2270, 11848, 2752, 3115, 18681, 2075, 8257, 1010, 2109, 2658, 14090, 2869, 3115, 2147, 21530, 9643, 1010, 2270, 21674, 13862, 10595, 3714, 1012, 2045, 6336, 2648, 2282, 2499, 2051, 1010, 2988, 1016, 28927, 4597, 2282, 13671, 1010, 2988, 4157, 9338, 28927, 2025, 2999, 1012, 14599, 2204, 3460, 2609, 2484, 2847, 1010, 2564, 3236, 3806, 13181, 29110, 13706, 2985, 1016, 6385, 2902, 2111, 2283, 5281, 6314, 10722, 7382, 3111, 1012, 2027, 3046, 2191, 5286, 2298, 8702, 19785, 2015, 2524, 2147, 1010, 7884, 2898, 3528, 12183, 2015, 2210, 8386, 2825, 12824, 2833, 2154, 1010, 2833, 3544, 2051, 2051, 2367, 7884, 1010, 2326, 6581, 1012, 1996, 3347, 4024, 3095, 2465, 2147, 2146, 2847, 2868, 3509, 14726, 2921, 4550, 1010, 2204, 3036, 2568, 2075, 3509, 1012, 1045, 16755, 3309, 7807, 1021, 6385, 11471, 2117, 2733, 4024, 17993, 4882, 1010, 102], 'attention_mask': [1, 1, 1, 1, 1, 1, 1, 1, 1, 1, 1, 1, 1, 1, 1, 1, 1, 1, 1, 1, 1, 1, 1, 1, 1, 1, 1, 1, 1, 1, 1, 1, 1, 1, 1, 1, 1, 1, 1, 1, 1, 1, 1, 1, 1, 1, 1, 1, 1, 1, 1, 1, 1, 1, 1, 1, 1, 1, 1, 1, 1, 1, 1, 1, 1, 1, 1, 1, 1, 1, 1, 1, 1, 1, 1, 1, 1, 1, 1, 1, 1, 1, 1, 1, 1, 1, 1, 1, 1, 1, 1, 1, 1, 1, 1, 1, 1, 1, 1, 1, 1, 1, 1, 1, 1, 1, 1, 1, 1, 1, 1, 1, 1, 1, 1, 1, 1, 1, 1, 1, 1, 1, 1, 1, 1, 1, 1, 1, 1, 1, 1, 1, 1, 1, 1, 1, 1, 1, 1, 1, 1, 1, 1, 1, 1, 1, 1, 1, 1, 1, 1, 1, 1, 1, 1, 1, 1, 1, 1, 1, 1, 1, 1, 1, 1, 1, 1, 1, 1, 1, 1, 1, 1, 1, 1, 1, 1, 1, 1, 1, 1, 1, 1, 1, 1, 1, 1, 1, 1, 1, 1, 1, 1, 1, 1, 1, 1, 1, 1, 1, 1, 1, 1, 1, 1, 1, 1, 1, 1, 1, 1, 1, 1, 1, 1, 1, 1, 1, 1, 1, 1, 1, 1, 1, 1, 1, 1, 1, 1, 1, 1, 1, 1, 1, 1, 1, 1, 1, 1, 1, 1, 1, 1, 1, 1, 1, 1, 1, 1, 1, 1, 1, 1, 1, 1, 1, 1, 1, 1, 1, 1, 1, 1, 1, 1, 1]}, 1]\n",
      "[{'input_ids': [101, 2307, 3309, 3309, 2284, 15623, 16428, 2364, 6023, 6167, 2965, 6023, 12476, 3295, 1010, 15623, 16428, 2181, 16668, 26478, 17944, 6945, 6313, 17519, 2765, 2763, 2000, 3917, 3085, 4785, 2980, 14178, 1010, 3309, 2805, 2793, 5186, 6625, 1010, 9726, 2235, 1016, 29449, 19912, 2015, 15488, 20097, 2075, 3941, 2015, 1010, 102], 'attention_mask': [1, 1, 1, 1, 1, 1, 1, 1, 1, 1, 1, 1, 1, 1, 1, 1, 1, 1, 1, 1, 1, 1, 1, 1, 1, 1, 1, 1, 1, 1, 1, 1, 1, 1, 1, 1, 1, 1, 1, 1, 1, 1, 1, 1, 1, 1, 1, 1, 1, 1, 1, 1]}, 3]\n",
      "[{'input_ids': [101, 6467, 2015, 3835, 3309, 3129, 6158, 3731, 2251, 2289, 4370, 6467, 2015, 3309, 1010, 4669, 1010, 3095, 5379, 14044, 1010, 2282, 19957, 7429, 4550, 1010, 2793, 6625, 1010, 5791, 2994, 2272, 3731, 1010, 102], 'attention_mask': [1, 1, 1, 1, 1, 1, 1, 1, 1, 1, 1, 1, 1, 1, 1, 1, 1, 1, 1, 1, 1, 1, 1, 1, 1, 1, 1, 1, 1, 1, 1, 1, 1, 1, 1]}, 4]\n",
      "[{'input_ids': [101, 3811, 6749, 1010, 2074, 2513, 1018, 6385, 3309, 1012, 1996, 3095, 5379, 14044, 4734, 4550, 3295, 3819, 3773, 3000, 1010, 3811, 6749, 1010, 102], 'attention_mask': [1, 1, 1, 1, 1, 1, 1, 1, 1, 1, 1, 1, 1, 1, 1, 1, 1, 1, 1, 1, 1, 1, 1, 1, 1]}, 4]\n",
      "[{'input_ids': [101, 18783, 5845, 2684, 19154, 2994, 3309, 3866, 1010, 6298, 1010, 9379, 9882, 4734, 1010, 12278, 6450, 4066, 2126, 3328, 3182, 3509, 6963, 6581, 1010, 2893, 7929, 5379, 2111, 9461, 2393, 1010, 102], 'attention_mask': [1, 1, 1, 1, 1, 1, 1, 1, 1, 1, 1, 1, 1, 1, 1, 1, 1, 1, 1, 1, 1, 1, 1, 1, 1, 1, 1, 1, 1, 1, 1, 1, 1]}, 4]\n",
      "[{'input_ids': [101, 2307, 2173, 4716, 10104, 3072, 4370, 1996, 29481, 18595, 2015, 5133, 19796, 3309, 2254, 2494, 5632, 4633, 2307, 5126, 6429, 14044, 28667, 9006, 3549, 2094, 3309, 2307, 4268, 1010, 102], 'attention_mask': [1, 1, 1, 1, 1, 1, 1, 1, 1, 1, 1, 1, 1, 1, 1, 1, 1, 1, 1, 1, 1, 1, 1, 1, 1, 1, 1, 1, 1, 1, 1]}, 3]\n",
      "[{'input_ids': [101, 10166, 1010, 2502, 1010, 2074, 2288, 6919, 7001, 13292, 1012, 1015, 1011, 1018, 1012, 4527, 3205, 1018, 14117, 2469, 1019, 2732, 3855, 1010, 2833, 2307, 1010, 2191, 17829, 7884, 2574, 1010, 2283, 2260, 3291, 1010, 6350, 28305, 2025, 4771, 12476, 2190, 1010, 3509, 6265, 28305, 3413, 12517, 4825, 5216, 4521, 2612, 1010, 4157, 6581, 10126, 1010, 9568, 3347, 8966, 2305, 8974, 2204, 2489, 2304, 2990, 20426, 4377, 2100, 2305, 1010, 26071, 2300, 1010, 3198, 16528, 19379, 2303, 4654, 4842, 2378, 3401, 2066, 2106, 3509, 1012, 4770, 1013, 3509, 2149, 10383, 2140, 12385, 20755, 2319, 2630, 2300, 2785, 3147, 2025, 2712, 18041, 1010, 7167, 8397, 3509, 4770, 2288, 4862, 26328, 10789, 9880, 3347, 10789, 1010, 12403, 3835, 1010, 4862, 26328, 3595, 8038, 7169, 18414, 10841, 13793, 2441, 2270, 3328, 12403, 2025, 17099, 4926, 1010, 17414, 12403, 2569, 1016, 2489, 21881, 2015, 2253, 2417, 21564, 2106, 2025, 2801, 3331, 19519, 4113, 2578, 2851, 1010, 2025, 3407, 2008, 1012, 3095, 3565, 5379, 1010, 3713, 2394, 2707, 2272, 3009, 4092, 2406, 2088, 4282, 2360, 7570, 2721, 24665, 15396, 2015, 2025, 2707, 2045, 1012, 3964, 1050, 1005, 1056, 8572, 2975, 7001, 2648, 11228, 2854, 2334, 1010, 2253, 2237, 4273, 4932, 6023, 2415, 9494, 1010, 12316, 9681, 4067, 2643, 2155, 2852, 10575, 1010, 2648, 4534, 12459, 2053, 3210, 2025, 5224, 1010, 2449, 2415, 2204, 7588, 2006, 3170, 3446, 10036, 1010, 9270, 2235, 2053, 2613, 11662, 7251, 1010, 3042, 4003, 4214, 6450, 1010, 10821, 2074, 7001, 17111, 9541, 2312, 4536, 12517, 3509, 4770, 7884, 9568, 1010, 2613, 9241, 2074, 5210, 5999, 4458, 5439, 25568, 3030, 2056, 2748, 2183, 1012, 2151, 2489, 5592, 2965, 5962, 3938, 3371, 2335, 8167, 2063, 4613, 1050, 1005, 1056, 2991, 2009, 1012, 1045, 3811, 16755, 1010, 2307, 2051, 1010, 102], 'attention_mask': [1, 1, 1, 1, 1, 1, 1, 1, 1, 1, 1, 1, 1, 1, 1, 1, 1, 1, 1, 1, 1, 1, 1, 1, 1, 1, 1, 1, 1, 1, 1, 1, 1, 1, 1, 1, 1, 1, 1, 1, 1, 1, 1, 1, 1, 1, 1, 1, 1, 1, 1, 1, 1, 1, 1, 1, 1, 1, 1, 1, 1, 1, 1, 1, 1, 1, 1, 1, 1, 1, 1, 1, 1, 1, 1, 1, 1, 1, 1, 1, 1, 1, 1, 1, 1, 1, 1, 1, 1, 1, 1, 1, 1, 1, 1, 1, 1, 1, 1, 1, 1, 1, 1, 1, 1, 1, 1, 1, 1, 1, 1, 1, 1, 1, 1, 1, 1, 1, 1, 1, 1, 1, 1, 1, 1, 1, 1, 1, 1, 1, 1, 1, 1, 1, 1, 1, 1, 1, 1, 1, 1, 1, 1, 1, 1, 1, 1, 1, 1, 1, 1, 1, 1, 1, 1, 1, 1, 1, 1, 1, 1, 1, 1, 1, 1, 1, 1, 1, 1, 1, 1, 1, 1, 1, 1, 1, 1, 1, 1, 1, 1, 1, 1, 1, 1, 1, 1, 1, 1, 1, 1, 1, 1, 1, 1, 1, 1, 1, 1, 1, 1, 1, 1, 1, 1, 1, 1, 1, 1, 1, 1, 1, 1, 1, 1, 1, 1, 1, 1, 1, 1, 1, 1, 1, 1, 1, 1, 1, 1, 1, 1, 1, 1, 1, 1, 1, 1, 1, 1, 1, 1, 1, 1, 1, 1, 1, 1, 1, 1, 1, 1, 1, 1, 1, 1, 1, 1, 1, 1, 1, 1, 1, 1, 1, 1, 1, 1, 1, 1, 1, 1, 1, 1, 1, 1, 1, 1, 1, 1, 1, 1, 1, 1, 1, 1, 1, 1, 1]}, 4]\n"
     ]
    }
   ],
   "source": [
    "tokenized_table = []\n",
    "for i in range(len(df[\"review\"])):\n",
    "    tokenized_table.append([tokenizer(df[\"review\"][i]), df[\"rating\"][i]])\n",
    "for j in range(10, 20):\n",
    "    print(tokenized_table[j])"
   ]
  },
  {
   "cell_type": "code",
   "execution_count": null,
   "metadata": {},
   "outputs": [],
   "source": []
  }
 ],
 "metadata": {
  "kernelspec": {
   "display_name": "madan_env",
   "language": "python",
   "name": "python3"
  },
  "language_info": {
   "codemirror_mode": {
    "name": "ipython",
    "version": 3
   },
   "file_extension": ".py",
   "mimetype": "text/x-python",
   "name": "python",
   "nbconvert_exporter": "python",
   "pygments_lexer": "ipython3",
   "version": "3.11.2"
  }
 },
 "nbformat": 4,
 "nbformat_minor": 2
}
