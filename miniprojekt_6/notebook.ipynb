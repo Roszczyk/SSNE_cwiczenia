{
 "cells": [
  {
   "cell_type": "code",
   "execution_count": 8,
   "metadata": {},
   "outputs": [
    {
     "name": "stdout",
     "output_type": "stream",
     "text": [
      "Requirement already satisfied: transformers in c:\\users\\mikol\\onedrive\\pulpit\\repos\\madan\\madan_env\\lib\\site-packages (4.41.2)\n",
      "Requirement already satisfied: datasets in c:\\users\\mikol\\onedrive\\pulpit\\repos\\madan\\madan_env\\lib\\site-packages (2.19.2)\n",
      "Collecting evaluate\n",
      "  Downloading evaluate-0.4.2-py3-none-any.whl (84 kB)\n",
      "     ---------------------------------------- 84.1/84.1 kB 1.6 MB/s eta 0:00:00\n",
      "Requirement already satisfied: filelock in c:\\users\\mikol\\onedrive\\pulpit\\repos\\madan\\madan_env\\lib\\site-packages (from transformers) (3.14.0)\n",
      "Requirement already satisfied: huggingface-hub<1.0,>=0.23.0 in c:\\users\\mikol\\onedrive\\pulpit\\repos\\madan\\madan_env\\lib\\site-packages (from transformers) (0.23.3)\n",
      "Requirement already satisfied: numpy>=1.17 in c:\\users\\mikol\\onedrive\\pulpit\\repos\\madan\\madan_env\\lib\\site-packages (from transformers) (1.26.4)\n",
      "Requirement already satisfied: packaging>=20.0 in c:\\users\\mikol\\onedrive\\pulpit\\repos\\madan\\madan_env\\lib\\site-packages (from transformers) (24.0)\n",
      "Requirement already satisfied: pyyaml>=5.1 in c:\\users\\mikol\\onedrive\\pulpit\\repos\\madan\\madan_env\\lib\\site-packages (from transformers) (6.0.1)\n",
      "Requirement already satisfied: regex!=2019.12.17 in c:\\users\\mikol\\onedrive\\pulpit\\repos\\madan\\madan_env\\lib\\site-packages (from transformers) (2024.5.15)\n",
      "Requirement already satisfied: requests in c:\\users\\mikol\\onedrive\\pulpit\\repos\\madan\\madan_env\\lib\\site-packages (from transformers) (2.32.2)\n",
      "Requirement already satisfied: tokenizers<0.20,>=0.19 in c:\\users\\mikol\\onedrive\\pulpit\\repos\\madan\\madan_env\\lib\\site-packages (from transformers) (0.19.1)\n",
      "Requirement already satisfied: safetensors>=0.4.1 in c:\\users\\mikol\\onedrive\\pulpit\\repos\\madan\\madan_env\\lib\\site-packages (from transformers) (0.4.3)\n",
      "Requirement already satisfied: tqdm>=4.27 in c:\\users\\mikol\\onedrive\\pulpit\\repos\\madan\\madan_env\\lib\\site-packages (from transformers) (4.66.4)\n",
      "Requirement already satisfied: pyarrow>=12.0.0 in c:\\users\\mikol\\onedrive\\pulpit\\repos\\madan\\madan_env\\lib\\site-packages (from datasets) (16.1.0)\n",
      "Requirement already satisfied: pyarrow-hotfix in c:\\users\\mikol\\onedrive\\pulpit\\repos\\madan\\madan_env\\lib\\site-packages (from datasets) (0.6)\n",
      "Requirement already satisfied: dill<0.3.9,>=0.3.0 in c:\\users\\mikol\\onedrive\\pulpit\\repos\\madan\\madan_env\\lib\\site-packages (from datasets) (0.3.8)\n",
      "Requirement already satisfied: pandas in c:\\users\\mikol\\onedrive\\pulpit\\repos\\madan\\madan_env\\lib\\site-packages (from datasets) (2.2.2)\n",
      "Requirement already satisfied: xxhash in c:\\users\\mikol\\onedrive\\pulpit\\repos\\madan\\madan_env\\lib\\site-packages (from datasets) (3.4.1)\n",
      "Requirement already satisfied: multiprocess in c:\\users\\mikol\\onedrive\\pulpit\\repos\\madan\\madan_env\\lib\\site-packages (from datasets) (0.70.16)\n",
      "Requirement already satisfied: fsspec[http]<=2024.3.1,>=2023.1.0 in c:\\users\\mikol\\onedrive\\pulpit\\repos\\madan\\madan_env\\lib\\site-packages (from datasets) (2024.3.1)\n",
      "Requirement already satisfied: aiohttp in c:\\users\\mikol\\onedrive\\pulpit\\repos\\madan\\madan_env\\lib\\site-packages (from datasets) (3.9.5)\n",
      "Requirement already satisfied: aiosignal>=1.1.2 in c:\\users\\mikol\\onedrive\\pulpit\\repos\\madan\\madan_env\\lib\\site-packages (from aiohttp->datasets) (1.3.1)\n",
      "Requirement already satisfied: attrs>=17.3.0 in c:\\users\\mikol\\onedrive\\pulpit\\repos\\madan\\madan_env\\lib\\site-packages (from aiohttp->datasets) (23.2.0)\n",
      "Requirement already satisfied: frozenlist>=1.1.1 in c:\\users\\mikol\\onedrive\\pulpit\\repos\\madan\\madan_env\\lib\\site-packages (from aiohttp->datasets) (1.4.1)\n",
      "Requirement already satisfied: multidict<7.0,>=4.5 in c:\\users\\mikol\\onedrive\\pulpit\\repos\\madan\\madan_env\\lib\\site-packages (from aiohttp->datasets) (6.0.5)\n",
      "Requirement already satisfied: yarl<2.0,>=1.0 in c:\\users\\mikol\\onedrive\\pulpit\\repos\\madan\\madan_env\\lib\\site-packages (from aiohttp->datasets) (1.9.4)\n",
      "Requirement already satisfied: typing-extensions>=3.7.4.3 in c:\\users\\mikol\\onedrive\\pulpit\\repos\\madan\\madan_env\\lib\\site-packages (from huggingface-hub<1.0,>=0.23.0->transformers) (4.11.0)\n",
      "Requirement already satisfied: charset-normalizer<4,>=2 in c:\\users\\mikol\\onedrive\\pulpit\\repos\\madan\\madan_env\\lib\\site-packages (from requests->transformers) (3.3.2)\n",
      "Requirement already satisfied: idna<4,>=2.5 in c:\\users\\mikol\\onedrive\\pulpit\\repos\\madan\\madan_env\\lib\\site-packages (from requests->transformers) (3.7)\n",
      "Requirement already satisfied: urllib3<3,>=1.21.1 in c:\\users\\mikol\\onedrive\\pulpit\\repos\\madan\\madan_env\\lib\\site-packages (from requests->transformers) (2.2.1)\n",
      "Requirement already satisfied: certifi>=2017.4.17 in c:\\users\\mikol\\onedrive\\pulpit\\repos\\madan\\madan_env\\lib\\site-packages (from requests->transformers) (2024.2.2)\n",
      "Requirement already satisfied: colorama in c:\\users\\mikol\\onedrive\\pulpit\\repos\\madan\\madan_env\\lib\\site-packages (from tqdm>=4.27->transformers) (0.4.6)\n",
      "Requirement already satisfied: python-dateutil>=2.8.2 in c:\\users\\mikol\\onedrive\\pulpit\\repos\\madan\\madan_env\\lib\\site-packages (from pandas->datasets) (2.9.0.post0)\n",
      "Requirement already satisfied: pytz>=2020.1 in c:\\users\\mikol\\onedrive\\pulpit\\repos\\madan\\madan_env\\lib\\site-packages (from pandas->datasets) (2024.1)\n",
      "Requirement already satisfied: tzdata>=2022.7 in c:\\users\\mikol\\onedrive\\pulpit\\repos\\madan\\madan_env\\lib\\site-packages (from pandas->datasets) (2024.1)\n",
      "Requirement already satisfied: six>=1.5 in c:\\users\\mikol\\onedrive\\pulpit\\repos\\madan\\madan_env\\lib\\site-packages (from python-dateutil>=2.8.2->pandas->datasets) (1.16.0)\n",
      "Installing collected packages: evaluate\n",
      "Successfully installed evaluate-0.4.2\n"
     ]
    },
    {
     "name": "stderr",
     "output_type": "stream",
     "text": [
      "\n",
      "[notice] A new release of pip available: 22.3.1 -> 24.0\n",
      "[notice] To update, run: python.exe -m pip install --upgrade pip\n"
     ]
    }
   ],
   "source": [
    "! pip install transformers datasets evaluate"
   ]
  },
  {
   "cell_type": "code",
   "execution_count": 10,
   "metadata": {},
   "outputs": [],
   "source": [
    "import torch\n",
    "from torch import nn\n",
    "import numpy as nn"
   ]
  },
  {
   "cell_type": "code",
   "execution_count": 11,
   "metadata": {},
   "outputs": [
    {
     "name": "stdout",
     "output_type": "stream",
     "text": [
      "Device: cpu\n"
     ]
    }
   ],
   "source": [
    "device = torch.device(\"cuda:0\") if torch.cuda.is_available() else torch.device(\"cpu\")\n",
    "print(\"Device:\", device)"
   ]
  },
  {
   "cell_type": "code",
   "execution_count": 12,
   "metadata": {},
   "outputs": [],
   "source": [
    "import transformers\n",
    "from datasets import load_dataset\n",
    "import evaluate\n",
    "from tqdm import tqdm\n",
    "import pandas as pd"
   ]
  },
  {
   "cell_type": "code",
   "execution_count": 13,
   "metadata": {},
   "outputs": [],
   "source": [
    "model_name = 'distilbert-base-uncased'\n",
    "tokenizer = transformers.AutoTokenizer.from_pretrained(model_name)\n",
    "model = transformers.AutoModel.from_pretrained(model_name)"
   ]
  },
  {
   "cell_type": "code",
   "execution_count": 2,
   "metadata": {},
   "outputs": [],
   "source": [
    "df = pd.read_csv(\"train_data.csv\")"
   ]
  },
  {
   "cell_type": "code",
   "execution_count": 8,
   "metadata": {},
   "outputs": [
    {
     "name": "stdout",
     "output_type": "stream",
     "text": [
      "location not palace excellent hotel booke dthe hotel nh hotel site attractive rate, room spacious quiet, clean, hotel bit unpersonal big, breakfast tremendous, teh breakfast room art nouveau.. real experience, location ok altough busy neighbourhood night, rooms sound proof, stayed hotels amsterdam, favorite,  \n",
      "4\n"
     ]
    }
   ],
   "source": [
    "print(df[\"review\"][0])\n",
    "print(df[\"rating\"][0])"
   ]
  },
  {
   "cell_type": "code",
   "execution_count": 18,
   "metadata": {},
   "outputs": [
    {
     "name": "stdout",
     "output_type": "stream",
     "text": [
      "[['[CLS]', 'room', '/', 'casino', 'not', 'just', 'relaxing', 'short', 'trip', '4', 'nights', '5', 'days', 'breeze', '##s', 'super', '##cl', '##ub', 'hotel', 'casino', 'punta', 'can', '##a', 'feb', '.', '9', '-', '13', 'arrived', 'hour', 'ride', 'airport', 'stopping', '3', '-', '4', 'hotels', 'way', 'drop', 'vacation', '##ers', 'check', '-', 'in', 'went', 'smoothly', ',', 'recommend', 'getting', 'taxi', 'unless', 'transfers', 'paid', 'advance', ',', 'pool', 'fabulous', 'large', 'winding', 'swim', '-', 'up', 'bar', 'lots', 'lounge', 'chairs', 'pick', 'favorite', 'lou', '##nging', 'area', ',', 'food', 'available', 'anytime', 'rate', 'average', ',', 'tried', 'japanese', ',', 'room', 'smelled', 'must', '##y', 'probably', 'leaks', 'bathroom', 'com', '##mo', '##de', 'sink', 'shower', '/', 'tub', ',', 'reported', 'leaks', 'attended', ',', 'evening', 'wanted', 'use', 'hair', 'dry', '##er', 'knew', 'going', 'work', 'not', ',', 'did', 'send', 'complaint', 'wet', 'hair', 'dinner', ',', 'fuse', 'box', 'wall', 'reset', '##ting', 'help', 'not', ',', 'beautiful', 'view', 'pool', 'ocean', ',', 'love', 'gamble', 'casinos', 'available', 'disappointed', 'breeze', 'casino', ',', 'played', 'ro', '##ule', '##tte', 'spin', '##ner', '/', 'dealer', 'fast', 'n', \"'\", 't', 'chips', 'half', 'time', ',', '2', 'ro', '##ule', '##tte', 'tables', 'usually', 'operating', '2', 'black', 'jack', 'tables', 'not', 'slots', 'pick', ',', 'think', 'carr', '##ib', '##be', '##an', 'stud', 'table', ',', 'just', 'not', 'busy', 'staff', 'did', 'n', \"'\", 't', 'friendly', 'acc', '##omo', '##dating', ',', 'definitely', 'recommend', 'punta', 'can', '##a', 'beautiful', 'beach', 'ocean', 'try', 'newer', 'hotels', 'time', ',', '[SEP]'], 2]\n",
      "[['[CLS]', 'great', 'choice', 'stayed', '2', 'nights', ',', 'fairly', 'new', 'hotel', ',', 'location', 'great', 'right', 'near', 'attractions', 'public', 'transportation', '2', 'blocks', 'south', 'station', ',', 'hotel', 'great', 'staff', 'facilities', 'amenities', ',', 'nice', 'little', 'spa', 'area', 'pool', 'workout', 'facilities', ',', 'room', 'great', 'nicely', 'furnished', 'maintained', 'lcd', 'wide', '##screen', 'tv', 'comfortable', 'bed', 'clean', 'quiet', ',', 'staff', 'informed', 'friendly', ',', 'price', 'reasonable', 'area', ',', 'overall', 'value', 'place', 'half', 'dozen', 'places', 'stayed', 'boston', 'years', ',', '[SEP]'], 4]\n",
      "[['[CLS]', 'great', 'stayed', '1', 'night', 'prior', 'leaving', 'australia', ',', 'previously', 'sydney', '1', 'week', 'stayed', 'city', 'centre', ',', 'merit', '##on', 'extremely', 'good', 'deal', 'especially', 'given', 'space', 'clean', '##liness', 'amenities', ',', 'really', 'apartment', 'not', 'hotel', 'room', 'fully', '-', 'outfit', '##ted', 'kitchen', 'separate', 'laundry', 'room', 'deter', '##gent', 'included', ',', 'excellent', 'long', '-', 'term', 'stays', 'great', 'short', 'stay', 'like', ',', 'really', 'nice', 'actual', 'couch', 'sit', 'watch', 'tv', ',', 'convenience', 'store', '4', '-', '5', 'ethnic', 'restaurants', 'nearby', 'pizza', 'middle', 'eastern', 'corner', 'fantastic', 'dvd', 'rental', 'store', 'apartment', 'dvd', 'player', ',', 'apartment', 'pretty', 'convenient', 'centennial', 'park', 'paddington', 'area', ',', 'far', 'walk', 'city', 'centre', 'let', 'harbor', 'hotel', 'city', 'centre', 'allowed', 'walk', 'darling', 'harbor', 'circular', 'quay', 'n', \"'\", 't', 'tired', ',', 'well', '-', 'positioned', 'terms', 'cab', '##fare', 'generally', '10', 'areas', 'city', 'fare', 'airport', '20', 'did', 'n', \"'\", 't', 'realize', 'took', 'train', 'airport', 'cab', 'roundabout', '30', ',', 'desk', 'people', 'court', '##eous', 'helpful', ',', 'highly', 'recommended', ',', '[SEP]'], 4]\n",
      "[['[CLS]', 've', '##neer', 'excellence', 'stayed', 'majestic', 'chosen', 'friends', 'wedding', ',', 'stayed', '14', 'nights', ',', 'planning', 'wedding', 'recommend', 'majestic', 'did', 'superb', 'job', ',', 'just', 'aware', 'rains', 'repeatedly', 'day', 'inclusive', 'holiday', 'pretty', 'sure', 'best', 'hotel', 'dominican', 'republic', ',', 'expecting', '5', 'star', 'standards', 'think', 'again', '.', 'the', 'hotel', 'new', 'standard', 'finish', 'dreadful', ',', 'glance', 'hotel', 'looks', 'stunning', 'built', 'sho', '##dd', '##ily', 'couple', 'years', 'unless', 'spend', 'lot', 'maintenance', 'come', 'ta', '##tty', ',', 'long', 'driveway', 'resort', 'walk', 'n', \"'\", 't', 'quite', 'finished', 'building', 'work', 'piles', 'rubble', 'n', \"'\", 't', 'removed', 'landscape', '##d', ',', 'places', 'mixed', 'concrete', 'tar', '##mac', 'washed', 'white', 'patches', ',', 'hotel', 'concrete', 'walkway', '##s', 'breaking', 'uncomfortable', 'pool', 'areas', 'n', \"'\", 't', 'wearing', 'shoes', ',', 'paths', 'pools', 'areas', 'nice', 'attractive', 'in', '##laid', 'bricks', 'partly', 'concrete', '##d', 'fallen', 'really', 'spoil', '##s', 'appearance', '.', 'in', 'bedrooms', 'public', 'toilet', 'areas', 'standard', 'til', '##ing', 'joke', ',', 'used', 'professional', 'tile', '##rs', 'standard', 'work', '##manship', 'awful', ',', 'public', 'toilets', 'flush', 'mechanisms', 'broken', '.', 'there', 'lift', 'outside', 'room', 'worked', 'time', ',', 'reported', '2', 'faulty', 'lights', 'room', 'repaired', ',', 'reported', 'coffee', 'maker', 'faulty', 'not', 'replaced', '.', 'fortunately', 'good', 'doctor', 'site', '24', 'hours', ',', 'wife', 'caught', 'gas', '##tro', '##enter', '##itis', 'spent', '2', 'nights', 'hospital', 'people', 'party', 'experienced', 'upset', 'tu', '##mm', '##ies', '.', 'they', 'try', 'make', 'grounds', 'look', 'attractive', 'gardener', '##s', 'hard', 'work', ',', 'restaurants', 'wide', 'variety', 'menu', '##s', 'little', 'variation', 'possible', 'tire', 'food', 'day', ',', 'food', 'appears', 'time', 'time', 'different', 'restaurants', ',', 'service', 'excellent', '.', 'the', 'bar', 'entertainment', 'staff', 'class', 'work', 'long', 'hours', 'smile', 'beach', 'stunning', 'kept', 'clean', ',', 'good', 'security', 'mind', '##ing', 'beach', '.', 'i', 'recommend', 'hotel', 'breaks', '7', 'nights', 'bored', 'second', 'week', 'entertainment', 'repeats', 'weekly', ',', '[SEP]'], 1]\n",
      "[['[CLS]', 'great', 'hotel', 'hotel', 'located', 'orchard', 'rd', 'main', 'shopping', 'strip', 'means', 'shopping', 'awesome', 'location', ',', 'orchard', 'rd', 'area', 'terribly', 'cong', '##ested', 'ted', '##ious', 'maneuver', 'result', 'probably', 'to', '##ler', '##able', 'climate', 'hot', 'humid', ',', 'hotel', 'appointed', 'bed', 'extremely', 'comfortable', ',', 'gym', 'small', '2', 'tread', '##mill', '##s', 'sm', '##atter', '##ing', 'equipment', '##s', ',', '[SEP]'], 3]\n",
      "[['[CLS]', 'jury', '##s', 'nice', 'hotel', 'husband', 'traveled', 'boston', 'july', '2007', 'stayed', 'jury', '##s', 'hotel', ',', 'liked', ',', 'staff', 'friendly', 'helpful', ',', 'room', 'nicely', 'decorated', 'clean', ',', 'bed', 'comfortable', ',', 'definitely', 'stay', 'come', 'boston', ',', '[SEP]'], 4]\n",
      "[['[CLS]', 'highly', 'recommended', ',', 'just', 'returned', '4', 'nights', 'hotel', '.', 'the', 'staff', 'friendly', 'helpful', 'rooms', 'clean', 'location', 'perfect', 'seeing', 'paris', ',', 'highly', 'recommended', ',', '[SEP]'], 4]\n",
      "[['[CLS]', 'fabulous', 'treated', 'daughter', 'fiance', 'stay', 'hotel', 'loved', ',', 'romantic', ',', 'peaceful', 'gorgeous', 'rooms', ',', 'meals', 'expensive', 'sort', 'way', 'walk', 'places', 'beach', 'bars', 'excellent', ',', 'getting', 'ok', 'friendly', 'people', 'eager', 'help', ',', '[SEP]'], 4]\n",
      "[['[CLS]', 'great', 'place', 'visited', 'dominican', 'republic', 'stayed', 'the', '##sir', '##eni', '##s', 'tropical', 'suites', 'hotel', 'january', '2003', 'enjoyed', 'weather', 'great', 'employees', 'amazing', 'helpful', 'rec', '##com', '##men', '##d', 'hotel', 'great', 'kids', ',', '[SEP]'], 3]\n",
      "[['[CLS]', 'wow', ',', 'big', ',', 'just', 'got', 'wonderful', 'resort', 'nov', '.', '1', '-', '4', '.', 'surprised', 'listed', '4', '##star', 'sure', '5', 'star', 'mentioned', ',', 'food', 'great', ',', 'make', 'reservations', 'restaurants', 'soon', ',', 'party', '12', 'problem', ',', 'breakfast', 'buffet', 'not', 'missed', 'awesome', 'best', ',', 'beach', 'lunch', 'buffet', 'pass', 'tram', 'restaurant', 'row', 'eat', 'instead', ',', 'coffee', 'excellent', 'everyday', ',', 'lobby', 'bar', 'packed', 'night', 'drinks', 'good', 'free', 'black', 'jack', 'attire', 'dress', '##y', 'night', ',', 'bottled', 'water', ',', 'ask', '151', 'rum', 'body', 'ex', '##per', '##in', '##ce', 'like', 'did', 'beach', '.', 'pool', '/', 'beach', 'us', '##usa', '##l', 'carr', '##ibe', '##an', 'blue', 'water', 'kind', 'cold', 'not', 'sea', '##weed', ',', 'lots', 'chairs', 'beach', 'pool', 'got', 'ali', '##ttle', 'crowded', 'swim', 'bar', 'crowded', ',', 'spa', 'nice', ',', 'ali', '##ttle', 'secret', 'ya', 'indoor', 'ju', '##cu', '##zzi', 'opened', 'public', 'walk', 'spa', 'not', 'advertised', 'accident', ',', 'booked', 'spa', 'special', '2', 'free', 'massage', '##s', 'went', 'red', '##eem', 'did', 'not', 'idea', 'talking', 'remedy', 'guest', 'services', 'morning', ',', 'not', 'happy', 'that', '.', 'staff', 'super', 'friendly', ',', 'speak', 'english', 'start', 'come', 'spanish', 'speaking', 'country', 'world', 'knows', 'say', 'ho', '##la', 'gr', '##asia', '##s', 'not', 'start', 'there', '.', 'notes', 'n', \"'\", 't', 'bother', 'leaving', 'resort', 'outside', 'scar', '##ry', 'local', ',', 'went', 'town', 'armed', 'guards', 'shopping', 'center', 'rifles', ',', 'yi', '##kes', 'thank', 'god', 'family', 'dr', 'locals', ',', 'outside', 'streets', 'scary', 'no', 'lines', 'not', 'maintained', ',', 'business', 'center', 'good', 'computers', 'on', '##ine', 'rate', 'cheap', ',', 'casino', 'small', 'no', 'real', 'poker', 'tables', ',', 'phone', 'card', 'calling', 'expensive', ',', 'complaints', 'just', 'resort', 'soo', '##oo', 'large', 'ride', 'tram', 'beach', 'pool', 'restaurants', 'lobby', ',', 'real', 'hurry', 'just', 'flag', '##ged', 'passing', 'golf', 'carts', 'stopped', 'said', 'yes', 'going', '.', 'any', 'free', 'gift', 'means', 'listening', '90', 'minute', 'times', '##har', '##e', 'speech', 'n', \"'\", 't', 'fall', 'it', '.', 'i', 'highly', 'recommend', ',', 'great', 'time', ',', '[SEP]'], 4]\n"
     ]
    }
   ],
   "source": [
    "tokenized_table = []\n",
    "for i in range(len(df[\"review\"])):\n",
    "    tokenized_table.append([tokenizer.convert_ids_to_tokens(tokenizer(df[\"review\"][i])[\"input_ids\"]), df[\"rating\"][i]])\n",
    "for j in range(10, 20):\n",
    "    print(tokenized_table[j])"
   ]
  },
  {
   "cell_type": "code",
   "execution_count": null,
   "metadata": {},
   "outputs": [],
   "source": []
  }
 ],
 "metadata": {
  "kernelspec": {
   "display_name": "madan_env",
   "language": "python",
   "name": "python3"
  },
  "language_info": {
   "codemirror_mode": {
    "name": "ipython",
    "version": 3
   },
   "file_extension": ".py",
   "mimetype": "text/x-python",
   "name": "python",
   "nbconvert_exporter": "python",
   "pygments_lexer": "ipython3",
   "version": "3.11.2"
  }
 },
 "nbformat": 4,
 "nbformat_minor": 2
}
